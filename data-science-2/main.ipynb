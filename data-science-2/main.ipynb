{
  "nbformat": 4,
  "nbformat_minor": 0,
  "metadata": {
    "kernelspec": {
      "display_name": "Python 3",
      "language": "python",
      "name": "python3"
    },
    "language_info": {
      "codemirror_mode": {
        "name": "ipython",
        "version": 3
      },
      "file_extension": ".py",
      "mimetype": "text/x-python",
      "name": "python",
      "nbconvert_exporter": "python",
      "pygments_lexer": "ipython3",
      "version": "3.7.3"
    },
    "colab": {
      "name": "main.ipynb",
      "provenance": [],
      "collapsed_sections": []
    }
  },
  "cells": [
    {
      "cell_type": "markdown",
      "metadata": {
        "id": "jGq1cmW2O3Rh",
        "colab_type": "text"
      },
      "source": [
        "# Desafio 4\n",
        "\n",
        "Neste desafio, vamos praticar um pouco sobre testes de hipóteses. Utilizaremos o _data set_ [2016 Olympics in Rio de Janeiro](https://www.kaggle.com/rio2016/olympic-games/), que contém dados sobre os atletas das Olimpíadas de 2016 no Rio de Janeiro.\n",
        "\n",
        "Esse _data set_ conta com informações gerais sobre 11538 atletas como nome, nacionalidade, altura, peso e esporte praticado. Estaremos especialmente interessados nas variáveis numéricas altura (`height`) e peso (`weight`). As análises feitas aqui são parte de uma Análise Exploratória de Dados (EDA).\n",
        "\n",
        "> Obs.: Por favor, não modifique o nome das funções de resposta."
      ]
    },
    {
      "cell_type": "markdown",
      "metadata": {
        "id": "tYSWCaLsO3Rj",
        "colab_type": "text"
      },
      "source": [
        "## _Setup_ geral"
      ]
    },
    {
      "cell_type": "code",
      "metadata": {
        "id": "8guvvTWmO3Rl",
        "colab_type": "code",
        "colab": {
          "base_uri": "https://localhost:8080/",
          "height": 71
        },
        "outputId": "d3635873-b8a2-4d0c-f706-ec4c3a0bb206"
      },
      "source": [
        "import pandas as pd\n",
        "import matplotlib.pyplot as plt\n",
        "import numpy as np\n",
        "import scipy.stats as sct\n",
        "import seaborn as sns\n",
        "\n"
      ],
      "execution_count": 1,
      "outputs": [
        {
          "output_type": "stream",
          "text": [
            "/usr/local/lib/python3.6/dist-packages/statsmodels/tools/_testing.py:19: FutureWarning: pandas.util.testing is deprecated. Use the functions in the public API at pandas.testing instead.\n",
            "  import pandas.util.testing as tm\n"
          ],
          "name": "stderr"
        }
      ]
    },
    {
      "cell_type": "code",
      "metadata": {
        "id": "emFUegdUO3Ru",
        "colab_type": "code",
        "colab": {}
      },
      "source": [
        "#%matplotlib inline\n",
        "\n",
        "from IPython.core.pylabtools import figsize\n",
        "\n",
        "\n",
        "figsize(12, 8)\n",
        "\n",
        "sns.set()"
      ],
      "execution_count": 2,
      "outputs": []
    },
    {
      "cell_type": "code",
      "metadata": {
        "id": "zL5lAqY7O3SB",
        "colab_type": "code",
        "colab": {}
      },
      "source": [
        "athletes = pd.read_csv(\"athletes.csv\")\n",
        "athletes2 = pd.read_csv(\"athletes.csv\")"
      ],
      "execution_count": 30,
      "outputs": []
    },
    {
      "cell_type": "code",
      "metadata": {
        "id": "37elVy6nO3SQ",
        "colab_type": "code",
        "colab": {}
      },
      "source": [
        "def get_sample(df, col_name, n=100, seed=42):\n",
        "    \"\"\"Get a sample from a column of a dataframe.\n",
        "    \n",
        "    It drops any numpy.nan entries before sampling. The sampling\n",
        "    is performed without replacement.\n",
        "    \n",
        "    Example of numpydoc for those who haven't seen yet.\n",
        "    \n",
        "    Parameters\n",
        "    ----------\n",
        "    df : pandas.DataFrame\n",
        "        Source dataframe.\n",
        "    col_name : str\n",
        "        Name of the column to be sampled.\n",
        "    n : int\n",
        "        Sample size. Default is 100.\n",
        "    seed : int\n",
        "        Random seed. Default is 42.\n",
        "    \n",
        "    Returns\n",
        "    -------\n",
        "    pandas.Series\n",
        "        Sample of size n from dataframe's column.\n",
        "    \"\"\"\n",
        "    np.random.seed(seed)\n",
        "    \n",
        "    random_idx = np.random.choice(df[col_name].dropna().index, size=n, replace=False)\n",
        "    \n",
        "    return df.loc[random_idx, col_name]"
      ],
      "execution_count": 4,
      "outputs": []
    },
    {
      "cell_type": "markdown",
      "metadata": {
        "id": "w9rwp7drO3Sd",
        "colab_type": "text"
      },
      "source": [
        "## Inicia sua análise a partir daqui"
      ]
    },
    {
      "cell_type": "code",
      "metadata": {
        "id": "ctKDgegiO3Si",
        "colab_type": "code",
        "colab": {
          "base_uri": "https://localhost:8080/",
          "height": 204
        },
        "outputId": "c037d174-f20b-4613-c6b5-9d04f1668ff7"
      },
      "source": [
        "# Sua análise começa aqui.\n",
        "athletes.head()\n"
      ],
      "execution_count": 5,
      "outputs": [
        {
          "output_type": "execute_result",
          "data": {
            "text/html": [
              "<div>\n",
              "<style scoped>\n",
              "    .dataframe tbody tr th:only-of-type {\n",
              "        vertical-align: middle;\n",
              "    }\n",
              "\n",
              "    .dataframe tbody tr th {\n",
              "        vertical-align: top;\n",
              "    }\n",
              "\n",
              "    .dataframe thead th {\n",
              "        text-align: right;\n",
              "    }\n",
              "</style>\n",
              "<table border=\"1\" class=\"dataframe\">\n",
              "  <thead>\n",
              "    <tr style=\"text-align: right;\">\n",
              "      <th></th>\n",
              "      <th>id</th>\n",
              "      <th>name</th>\n",
              "      <th>nationality</th>\n",
              "      <th>sex</th>\n",
              "      <th>dob</th>\n",
              "      <th>height</th>\n",
              "      <th>weight</th>\n",
              "      <th>sport</th>\n",
              "      <th>gold</th>\n",
              "      <th>silver</th>\n",
              "      <th>bronze</th>\n",
              "    </tr>\n",
              "  </thead>\n",
              "  <tbody>\n",
              "    <tr>\n",
              "      <th>0</th>\n",
              "      <td>736041664</td>\n",
              "      <td>A Jesus Garcia</td>\n",
              "      <td>ESP</td>\n",
              "      <td>male</td>\n",
              "      <td>10/17/69</td>\n",
              "      <td>1.72</td>\n",
              "      <td>64.0</td>\n",
              "      <td>athletics</td>\n",
              "      <td>0</td>\n",
              "      <td>0</td>\n",
              "      <td>0</td>\n",
              "    </tr>\n",
              "    <tr>\n",
              "      <th>1</th>\n",
              "      <td>532037425</td>\n",
              "      <td>A Lam Shin</td>\n",
              "      <td>KOR</td>\n",
              "      <td>female</td>\n",
              "      <td>9/23/86</td>\n",
              "      <td>1.68</td>\n",
              "      <td>56.0</td>\n",
              "      <td>fencing</td>\n",
              "      <td>0</td>\n",
              "      <td>0</td>\n",
              "      <td>0</td>\n",
              "    </tr>\n",
              "    <tr>\n",
              "      <th>2</th>\n",
              "      <td>435962603</td>\n",
              "      <td>Aaron Brown</td>\n",
              "      <td>CAN</td>\n",
              "      <td>male</td>\n",
              "      <td>5/27/92</td>\n",
              "      <td>1.98</td>\n",
              "      <td>79.0</td>\n",
              "      <td>athletics</td>\n",
              "      <td>0</td>\n",
              "      <td>0</td>\n",
              "      <td>1</td>\n",
              "    </tr>\n",
              "    <tr>\n",
              "      <th>3</th>\n",
              "      <td>521041435</td>\n",
              "      <td>Aaron Cook</td>\n",
              "      <td>MDA</td>\n",
              "      <td>male</td>\n",
              "      <td>1/2/91</td>\n",
              "      <td>1.83</td>\n",
              "      <td>80.0</td>\n",
              "      <td>taekwondo</td>\n",
              "      <td>0</td>\n",
              "      <td>0</td>\n",
              "      <td>0</td>\n",
              "    </tr>\n",
              "    <tr>\n",
              "      <th>4</th>\n",
              "      <td>33922579</td>\n",
              "      <td>Aaron Gate</td>\n",
              "      <td>NZL</td>\n",
              "      <td>male</td>\n",
              "      <td>11/26/90</td>\n",
              "      <td>1.81</td>\n",
              "      <td>71.0</td>\n",
              "      <td>cycling</td>\n",
              "      <td>0</td>\n",
              "      <td>0</td>\n",
              "      <td>0</td>\n",
              "    </tr>\n",
              "  </tbody>\n",
              "</table>\n",
              "</div>"
            ],
            "text/plain": [
              "          id            name nationality  ... gold silver  bronze\n",
              "0  736041664  A Jesus Garcia         ESP  ...    0      0       0\n",
              "1  532037425      A Lam Shin         KOR  ...    0      0       0\n",
              "2  435962603     Aaron Brown         CAN  ...    0      0       1\n",
              "3  521041435      Aaron Cook         MDA  ...    0      0       0\n",
              "4   33922579      Aaron Gate         NZL  ...    0      0       0\n",
              "\n",
              "[5 rows x 11 columns]"
            ]
          },
          "metadata": {
            "tags": []
          },
          "execution_count": 5
        }
      ]
    },
    {
      "cell_type": "code",
      "metadata": {
        "id": "V6jKwcDtSNvd",
        "colab_type": "code",
        "colab": {}
      },
      "source": [
        "athletes.fillna(0,inplace=True)\n"
      ],
      "execution_count": 6,
      "outputs": []
    },
    {
      "cell_type": "code",
      "metadata": {
        "id": "Etp_cmHISXvM",
        "colab_type": "code",
        "colab": {}
      },
      "source": [
        "sample = get_sample(athletes,\"height\",n=3000)"
      ],
      "execution_count": 7,
      "outputs": []
    },
    {
      "cell_type": "code",
      "metadata": {
        "id": "6G7ccGm0TNfj",
        "colab_type": "code",
        "colab": {
          "base_uri": "https://localhost:8080/",
          "height": 34
        },
        "outputId": "684b19fe-6e68-45fd-f247-b2c12df1d75b"
      },
      "source": [
        "x = sct.norm.rvs(sample)\n",
        "shapiro_test = sct.shapiro(x)\n",
        "shapiro_test"
      ],
      "execution_count": 8,
      "outputs": [
        {
          "output_type": "execute_result",
          "data": {
            "text/plain": [
              "(0.9977041482925415, 0.00020486876019276679)"
            ]
          },
          "metadata": {
            "tags": []
          },
          "execution_count": 8
        }
      ]
    },
    {
      "cell_type": "code",
      "metadata": {
        "id": "bvMTsHxLUdhR",
        "colab_type": "code",
        "colab": {
          "base_uri": "https://localhost:8080/",
          "height": 34
        },
        "outputId": "ceb90672-1519-48a9-844e-595a91338806"
      },
      "source": [
        "jarque_bera_test = sct.jarque_bera(x)\n",
        "jarque_bera_test"
      ],
      "execution_count": 9,
      "outputs": [
        {
          "output_type": "execute_result",
          "data": {
            "text/plain": [
              "(16.64498961249954, 0.00024298889718854522)"
            ]
          },
          "metadata": {
            "tags": []
          },
          "execution_count": 9
        }
      ]
    },
    {
      "cell_type": "code",
      "metadata": {
        "id": "SjwYzJKuVAvY",
        "colab_type": "code",
        "colab": {}
      },
      "source": [
        "sample2 = get_sample(athletes,\"weight\",n=3000)"
      ],
      "execution_count": 10,
      "outputs": []
    },
    {
      "cell_type": "code",
      "metadata": {
        "id": "fPP2efMmVG4D",
        "colab_type": "code",
        "colab": {
          "base_uri": "https://localhost:8080/",
          "height": 34
        },
        "outputId": "e8f62417-cf35-4cb7-e6c4-d4e8b545b168"
      },
      "source": [
        "x2 = sct.norm.rvs(sample2)\n",
        "d_agostino_pearson_test = sct.normaltest(x2)\n",
        "d_agostino_pearson_test"
      ],
      "execution_count": 11,
      "outputs": [
        {
          "output_type": "execute_result",
          "data": {
            "text/plain": [
              "NormaltestResult(statistic=488.13602602262284, pvalue=1.0060249233348766e-106)"
            ]
          },
          "metadata": {
            "tags": []
          },
          "execution_count": 11
        }
      ]
    },
    {
      "cell_type": "code",
      "metadata": {
        "id": "x1nAD4PBYojE",
        "colab_type": "code",
        "colab": {
          "base_uri": "https://localhost:8080/",
          "height": 204
        },
        "outputId": "65a3a787-d68d-4b2f-89e9-4eab03523f1c"
      },
      "source": [
        "athletes[\"log_weight\"] = np.log10((athletes[\"weight\"]) + 1)\n",
        "athletes.head()\n"
      ],
      "execution_count": 12,
      "outputs": [
        {
          "output_type": "execute_result",
          "data": {
            "text/html": [
              "<div>\n",
              "<style scoped>\n",
              "    .dataframe tbody tr th:only-of-type {\n",
              "        vertical-align: middle;\n",
              "    }\n",
              "\n",
              "    .dataframe tbody tr th {\n",
              "        vertical-align: top;\n",
              "    }\n",
              "\n",
              "    .dataframe thead th {\n",
              "        text-align: right;\n",
              "    }\n",
              "</style>\n",
              "<table border=\"1\" class=\"dataframe\">\n",
              "  <thead>\n",
              "    <tr style=\"text-align: right;\">\n",
              "      <th></th>\n",
              "      <th>id</th>\n",
              "      <th>name</th>\n",
              "      <th>nationality</th>\n",
              "      <th>sex</th>\n",
              "      <th>dob</th>\n",
              "      <th>height</th>\n",
              "      <th>weight</th>\n",
              "      <th>sport</th>\n",
              "      <th>gold</th>\n",
              "      <th>silver</th>\n",
              "      <th>bronze</th>\n",
              "      <th>log_weight</th>\n",
              "    </tr>\n",
              "  </thead>\n",
              "  <tbody>\n",
              "    <tr>\n",
              "      <th>0</th>\n",
              "      <td>736041664</td>\n",
              "      <td>A Jesus Garcia</td>\n",
              "      <td>ESP</td>\n",
              "      <td>male</td>\n",
              "      <td>10/17/69</td>\n",
              "      <td>1.72</td>\n",
              "      <td>64.0</td>\n",
              "      <td>athletics</td>\n",
              "      <td>0</td>\n",
              "      <td>0</td>\n",
              "      <td>0</td>\n",
              "      <td>1.812913</td>\n",
              "    </tr>\n",
              "    <tr>\n",
              "      <th>1</th>\n",
              "      <td>532037425</td>\n",
              "      <td>A Lam Shin</td>\n",
              "      <td>KOR</td>\n",
              "      <td>female</td>\n",
              "      <td>9/23/86</td>\n",
              "      <td>1.68</td>\n",
              "      <td>56.0</td>\n",
              "      <td>fencing</td>\n",
              "      <td>0</td>\n",
              "      <td>0</td>\n",
              "      <td>0</td>\n",
              "      <td>1.755875</td>\n",
              "    </tr>\n",
              "    <tr>\n",
              "      <th>2</th>\n",
              "      <td>435962603</td>\n",
              "      <td>Aaron Brown</td>\n",
              "      <td>CAN</td>\n",
              "      <td>male</td>\n",
              "      <td>5/27/92</td>\n",
              "      <td>1.98</td>\n",
              "      <td>79.0</td>\n",
              "      <td>athletics</td>\n",
              "      <td>0</td>\n",
              "      <td>0</td>\n",
              "      <td>1</td>\n",
              "      <td>1.903090</td>\n",
              "    </tr>\n",
              "    <tr>\n",
              "      <th>3</th>\n",
              "      <td>521041435</td>\n",
              "      <td>Aaron Cook</td>\n",
              "      <td>MDA</td>\n",
              "      <td>male</td>\n",
              "      <td>1/2/91</td>\n",
              "      <td>1.83</td>\n",
              "      <td>80.0</td>\n",
              "      <td>taekwondo</td>\n",
              "      <td>0</td>\n",
              "      <td>0</td>\n",
              "      <td>0</td>\n",
              "      <td>1.908485</td>\n",
              "    </tr>\n",
              "    <tr>\n",
              "      <th>4</th>\n",
              "      <td>33922579</td>\n",
              "      <td>Aaron Gate</td>\n",
              "      <td>NZL</td>\n",
              "      <td>male</td>\n",
              "      <td>11/26/90</td>\n",
              "      <td>1.81</td>\n",
              "      <td>71.0</td>\n",
              "      <td>cycling</td>\n",
              "      <td>0</td>\n",
              "      <td>0</td>\n",
              "      <td>0</td>\n",
              "      <td>1.857332</td>\n",
              "    </tr>\n",
              "  </tbody>\n",
              "</table>\n",
              "</div>"
            ],
            "text/plain": [
              "          id            name nationality  ... silver bronze  log_weight\n",
              "0  736041664  A Jesus Garcia         ESP  ...      0      0    1.812913\n",
              "1  532037425      A Lam Shin         KOR  ...      0      0    1.755875\n",
              "2  435962603     Aaron Brown         CAN  ...      0      1    1.903090\n",
              "3  521041435      Aaron Cook         MDA  ...      0      0    1.908485\n",
              "4   33922579      Aaron Gate         NZL  ...      0      0    1.857332\n",
              "\n",
              "[5 rows x 12 columns]"
            ]
          },
          "metadata": {
            "tags": []
          },
          "execution_count": 12
        }
      ]
    },
    {
      "cell_type": "code",
      "metadata": {
        "id": "YDLWp36YdAoc",
        "colab_type": "code",
        "colab": {
          "base_uri": "https://localhost:8080/",
          "height": 34
        },
        "outputId": "46682bf1-af71-497d-cc36-11691ea4afaf"
      },
      "source": [
        "sample3 =get_sample(athletes,\"log_weight\",n=3000)\n",
        "x3 = sct.norm.rvs(sample3)\n",
        "d_agostino_pearson_test2 = sct.normaltest(x3)\n",
        "d_agostino_pearson_test2"
      ],
      "execution_count": 13,
      "outputs": [
        {
          "output_type": "execute_result",
          "data": {
            "text/plain": [
              "NormaltestResult(statistic=50.70845606502676, pvalue=9.74537763050689e-12)"
            ]
          },
          "metadata": {
            "tags": []
          },
          "execution_count": 13
        }
      ]
    },
    {
      "cell_type": "code",
      "metadata": {
        "id": "xRIdXNg3bs9u",
        "colab_type": "code",
        "colab": {
          "base_uri": "https://localhost:8080/",
          "height": 204
        },
        "outputId": "75e09e02-437b-431e-d333-8310f38bc533"
      },
      "source": [
        "athletes.head()"
      ],
      "execution_count": 14,
      "outputs": [
        {
          "output_type": "execute_result",
          "data": {
            "text/html": [
              "<div>\n",
              "<style scoped>\n",
              "    .dataframe tbody tr th:only-of-type {\n",
              "        vertical-align: middle;\n",
              "    }\n",
              "\n",
              "    .dataframe tbody tr th {\n",
              "        vertical-align: top;\n",
              "    }\n",
              "\n",
              "    .dataframe thead th {\n",
              "        text-align: right;\n",
              "    }\n",
              "</style>\n",
              "<table border=\"1\" class=\"dataframe\">\n",
              "  <thead>\n",
              "    <tr style=\"text-align: right;\">\n",
              "      <th></th>\n",
              "      <th>id</th>\n",
              "      <th>name</th>\n",
              "      <th>nationality</th>\n",
              "      <th>sex</th>\n",
              "      <th>dob</th>\n",
              "      <th>height</th>\n",
              "      <th>weight</th>\n",
              "      <th>sport</th>\n",
              "      <th>gold</th>\n",
              "      <th>silver</th>\n",
              "      <th>bronze</th>\n",
              "      <th>log_weight</th>\n",
              "    </tr>\n",
              "  </thead>\n",
              "  <tbody>\n",
              "    <tr>\n",
              "      <th>0</th>\n",
              "      <td>736041664</td>\n",
              "      <td>A Jesus Garcia</td>\n",
              "      <td>ESP</td>\n",
              "      <td>male</td>\n",
              "      <td>10/17/69</td>\n",
              "      <td>1.72</td>\n",
              "      <td>64.0</td>\n",
              "      <td>athletics</td>\n",
              "      <td>0</td>\n",
              "      <td>0</td>\n",
              "      <td>0</td>\n",
              "      <td>1.812913</td>\n",
              "    </tr>\n",
              "    <tr>\n",
              "      <th>1</th>\n",
              "      <td>532037425</td>\n",
              "      <td>A Lam Shin</td>\n",
              "      <td>KOR</td>\n",
              "      <td>female</td>\n",
              "      <td>9/23/86</td>\n",
              "      <td>1.68</td>\n",
              "      <td>56.0</td>\n",
              "      <td>fencing</td>\n",
              "      <td>0</td>\n",
              "      <td>0</td>\n",
              "      <td>0</td>\n",
              "      <td>1.755875</td>\n",
              "    </tr>\n",
              "    <tr>\n",
              "      <th>2</th>\n",
              "      <td>435962603</td>\n",
              "      <td>Aaron Brown</td>\n",
              "      <td>CAN</td>\n",
              "      <td>male</td>\n",
              "      <td>5/27/92</td>\n",
              "      <td>1.98</td>\n",
              "      <td>79.0</td>\n",
              "      <td>athletics</td>\n",
              "      <td>0</td>\n",
              "      <td>0</td>\n",
              "      <td>1</td>\n",
              "      <td>1.903090</td>\n",
              "    </tr>\n",
              "    <tr>\n",
              "      <th>3</th>\n",
              "      <td>521041435</td>\n",
              "      <td>Aaron Cook</td>\n",
              "      <td>MDA</td>\n",
              "      <td>male</td>\n",
              "      <td>1/2/91</td>\n",
              "      <td>1.83</td>\n",
              "      <td>80.0</td>\n",
              "      <td>taekwondo</td>\n",
              "      <td>0</td>\n",
              "      <td>0</td>\n",
              "      <td>0</td>\n",
              "      <td>1.908485</td>\n",
              "    </tr>\n",
              "    <tr>\n",
              "      <th>4</th>\n",
              "      <td>33922579</td>\n",
              "      <td>Aaron Gate</td>\n",
              "      <td>NZL</td>\n",
              "      <td>male</td>\n",
              "      <td>11/26/90</td>\n",
              "      <td>1.81</td>\n",
              "      <td>71.0</td>\n",
              "      <td>cycling</td>\n",
              "      <td>0</td>\n",
              "      <td>0</td>\n",
              "      <td>0</td>\n",
              "      <td>1.857332</td>\n",
              "    </tr>\n",
              "  </tbody>\n",
              "</table>\n",
              "</div>"
            ],
            "text/plain": [
              "          id            name nationality  ... silver bronze  log_weight\n",
              "0  736041664  A Jesus Garcia         ESP  ...      0      0    1.812913\n",
              "1  532037425      A Lam Shin         KOR  ...      0      0    1.755875\n",
              "2  435962603     Aaron Brown         CAN  ...      0      1    1.903090\n",
              "3  521041435      Aaron Cook         MDA  ...      0      0    1.908485\n",
              "4   33922579      Aaron Gate         NZL  ...      0      0    1.857332\n",
              "\n",
              "[5 rows x 12 columns]"
            ]
          },
          "metadata": {
            "tags": []
          },
          "execution_count": 14
        }
      ]
    },
    {
      "cell_type": "code",
      "metadata": {
        "id": "8_PWn3irgG7p",
        "colab_type": "code",
        "colab": {
          "base_uri": "https://localhost:8080/",
          "height": 289
        },
        "outputId": "c5984707-9ae8-4386-904b-417d0f86ad18"
      },
      "source": [
        "athletes_filtro = athletes2\n",
        "athletes_filtro = athletes_filtro[['nationality','height']]\n",
        "athletes_filtro.query('nationality == \"CAN\" or nationality\t== \"USA\" or nationality == \"BRA\"',inplace=True)\n",
        "athletes_filtro.head()"
      ],
      "execution_count": 31,
      "outputs": [
        {
          "output_type": "stream",
          "text": [
            "/usr/local/lib/python3.6/dist-packages/ipykernel_launcher.py:3: SettingWithCopyWarning: \n",
            "A value is trying to be set on a copy of a slice from a DataFrame\n",
            "\n",
            "See the caveats in the documentation: https://pandas.pydata.org/pandas-docs/stable/user_guide/indexing.html#returning-a-view-versus-a-copy\n",
            "  This is separate from the ipykernel package so we can avoid doing imports until\n"
          ],
          "name": "stderr"
        },
        {
          "output_type": "execute_result",
          "data": {
            "text/html": [
              "<div>\n",
              "<style scoped>\n",
              "    .dataframe tbody tr th:only-of-type {\n",
              "        vertical-align: middle;\n",
              "    }\n",
              "\n",
              "    .dataframe tbody tr th {\n",
              "        vertical-align: top;\n",
              "    }\n",
              "\n",
              "    .dataframe thead th {\n",
              "        text-align: right;\n",
              "    }\n",
              "</style>\n",
              "<table border=\"1\" class=\"dataframe\">\n",
              "  <thead>\n",
              "    <tr style=\"text-align: right;\">\n",
              "      <th></th>\n",
              "      <th>nationality</th>\n",
              "      <th>height</th>\n",
              "    </tr>\n",
              "  </thead>\n",
              "  <tbody>\n",
              "    <tr>\n",
              "      <th>2</th>\n",
              "      <td>CAN</td>\n",
              "      <td>1.98</td>\n",
              "    </tr>\n",
              "    <tr>\n",
              "      <th>6</th>\n",
              "      <td>USA</td>\n",
              "      <td>2.05</td>\n",
              "    </tr>\n",
              "    <tr>\n",
              "      <th>13</th>\n",
              "      <td>USA</td>\n",
              "      <td>1.61</td>\n",
              "    </tr>\n",
              "    <tr>\n",
              "      <th>14</th>\n",
              "      <td>USA</td>\n",
              "      <td>1.78</td>\n",
              "    </tr>\n",
              "    <tr>\n",
              "      <th>64</th>\n",
              "      <td>USA</td>\n",
              "      <td>1.66</td>\n",
              "    </tr>\n",
              "  </tbody>\n",
              "</table>\n",
              "</div>"
            ],
            "text/plain": [
              "   nationality  height\n",
              "2          CAN    1.98\n",
              "6          USA    2.05\n",
              "13         USA    1.61\n",
              "14         USA    1.78\n",
              "64         USA    1.66"
            ]
          },
          "metadata": {
            "tags": []
          },
          "execution_count": 31
        }
      ]
    },
    {
      "cell_type": "code",
      "metadata": {
        "id": "ccgE8zZmgUbz",
        "colab_type": "code",
        "colab": {}
      },
      "source": [
        "bra = athletes_filtro.query('nationality == \"BRA\"')\n",
        "usa = athletes_filtro.query('nationality == \"USA\"')\n",
        "can = athletes_filtro.query('nationality == \"CAN\"')\n"
      ],
      "execution_count": 32,
      "outputs": []
    },
    {
      "cell_type": "code",
      "metadata": {
        "id": "rkEklSWDjeBw",
        "colab_type": "code",
        "colab": {}
      },
      "source": [
        "media_bra = round(bra['height'].mean(),3)\n",
        "media_usa = round(usa['height'].mean(),3)\n",
        "media_can = round(can['height'].mean(),3)\n",
        "\n",
        "vari_bra = round((bra['height'].std()**2),3)\n",
        "vari_usa= round((usa['height'].std()**2),3)\n",
        "vari_can= round((can['height'].std()**2),3)"
      ],
      "execution_count": 33,
      "outputs": []
    },
    {
      "cell_type": "code",
      "metadata": {
        "id": "KGKNZRtwkGum",
        "colab_type": "code",
        "colab": {}
      },
      "source": [
        "#bra_sample = get_sample(bra,'height',n=100)\n",
        "#usa_sample = get_sample(usa,'height',n=100)\n",
        "#can_sample = get_sample(can,'height',n=100)\n",
        "\n",
        "#bra1 = sct.norm.rvs(bra_sample)\n",
        "#usa1 = sct.norm.rvs(usa_sample)\n",
        "#can1 = sct.norm.rvs(can_sample)\n",
        "\n",
        "\n",
        "#bra1 = sct.norm.rvs(loc=1.7,scale=vari_bra,size=300)\n",
        "#usa1 = sct.norm.rvs(loc=1.7,scale=vari_usa,size=300)\n",
        "#can1 = sct.norm.rvs(loc=1.7,scale=vari_can,size=300)"
      ],
      "execution_count": 18,
      "outputs": []
    },
    {
      "cell_type": "code",
      "metadata": {
        "id": "0i40ZBLKlB8x",
        "colab_type": "code",
        "colab": {
          "base_uri": "https://localhost:8080/",
          "height": 34
        },
        "outputId": "5ca13c6a-effc-49dc-9d84-51c392d864e7"
      },
      "source": [
        "ttest_bra_usa = sct.ttest_ind(bra['height'],usa['height'],equal_var = False,nan_policy='omit')\n",
        "ttest_bra_usa "
      ],
      "execution_count": 34,
      "outputs": [
        {
          "output_type": "execute_result",
          "data": {
            "text/plain": [
              "Ttest_indResult(statistic=-3.2232436467501855, pvalue=0.0013080041830140115)"
            ]
          },
          "metadata": {
            "tags": []
          },
          "execution_count": 34
        }
      ]
    },
    {
      "cell_type": "code",
      "metadata": {
        "id": "45O4h6bBlbSz",
        "colab_type": "code",
        "colab": {
          "base_uri": "https://localhost:8080/",
          "height": 34
        },
        "outputId": "ecb635cd-f5f1-4a08-dc9b-88e5bc3de398"
      },
      "source": [
        "ttest_bra_can = sct.ttest_ind(bra['height'],can['height'],equal_var = False,nan_policy='omit')\n",
        "ttest_bra_can "
      ],
      "execution_count": 35,
      "outputs": [
        {
          "output_type": "execute_result",
          "data": {
            "text/plain": [
              "Ttest_indResult(statistic=0.6389304914365109, pvalue=0.5230827295440921)"
            ]
          },
          "metadata": {
            "tags": []
          },
          "execution_count": 35
        }
      ]
    },
    {
      "cell_type": "code",
      "metadata": {
        "id": "aoZ623Qrlr1C",
        "colab_type": "code",
        "colab": {
          "base_uri": "https://localhost:8080/",
          "height": 34
        },
        "outputId": "d99e1248-b09f-4366-fd97-5c091ba2f79c"
      },
      "source": [
        "ttest_usa_can = sct.ttest_ind(usa['height'],can['height'],equal_var = False,nan_policy='omit')\n",
        "ttest_usa_can "
      ],
      "execution_count": 36,
      "outputs": [
        {
          "output_type": "execute_result",
          "data": {
            "text/plain": [
              "Ttest_indResult(statistic=3.516987632488539, pvalue=0.0004660129347389851)"
            ]
          },
          "metadata": {
            "tags": []
          },
          "execution_count": 36
        }
      ]
    },
    {
      "cell_type": "code",
      "metadata": {
        "id": "kDSAzlJPl453",
        "colab_type": "code",
        "colab": {
          "base_uri": "https://localhost:8080/",
          "height": 34
        },
        "outputId": "f4d2d5d9-54e6-4998-f25c-4561cf03fcaf"
      },
      "source": [
        "pvalue_quest = round(ttest_usa_can[1],8)\n",
        "pvalue_quest"
      ],
      "execution_count": 37,
      "outputs": [
        {
          "output_type": "execute_result",
          "data": {
            "text/plain": [
              "0.00046601"
            ]
          },
          "metadata": {
            "tags": []
          },
          "execution_count": 37
        }
      ]
    },
    {
      "cell_type": "markdown",
      "metadata": {
        "id": "gawBzmaZO3Sx",
        "colab_type": "text"
      },
      "source": [
        "## Questão 1\n",
        "\n",
        "Considerando uma amostra de tamanho 3000 da coluna `height` obtida com a função `get_sample()`, execute o teste de normalidade de Shapiro-Wilk com a função `scipy.stats.shapiro()`. Podemos afirmar que as alturas são normalmente distribuídas com base nesse teste (ao nível de significância de 5%)? Responda com um boolean (`True` ou `False`)."
      ]
    },
    {
      "cell_type": "code",
      "metadata": {
        "id": "CIQoYFWtO3Sy",
        "colab_type": "code",
        "colab": {}
      },
      "source": [
        "def q1():\n",
        "    # Retorne aqui o resultado da questão 1.\n",
        "    return False"
      ],
      "execution_count": 23,
      "outputs": []
    },
    {
      "cell_type": "markdown",
      "metadata": {
        "id": "ShIw3ulXO3TO",
        "colab_type": "text"
      },
      "source": [
        "__Para refletir__:\n",
        "\n",
        "* Plote o histograma dessa variável (com, por exemplo, `bins=25`). A forma do gráfico e o resultado do teste são condizentes? Por que?\n",
        "* Plote o qq-plot para essa variável e a analise.\n",
        "* Existe algum nível de significância razoável que nos dê outro resultado no teste? (Não faça isso na prática. Isso é chamado _p-value hacking_, e não é legal)."
      ]
    },
    {
      "cell_type": "markdown",
      "metadata": {
        "id": "HGX-1rX9O3TQ",
        "colab_type": "text"
      },
      "source": [
        "## Questão 2\n",
        "\n",
        "Repita o mesmo procedimento acima, mas agora utilizando o teste de normalidade de Jarque-Bera através da função `scipy.stats.jarque_bera()`. Agora podemos afirmar que as alturas são normalmente distribuídas (ao nível de significância de 5%)? Responda com um boolean (`True` ou `False`)."
      ]
    },
    {
      "cell_type": "code",
      "metadata": {
        "id": "epenrtreO3TU",
        "colab_type": "code",
        "colab": {}
      },
      "source": [
        "def q2():\n",
        "    # Retorne aqui o resultado da questão 2.\n",
        "    return False"
      ],
      "execution_count": 24,
      "outputs": []
    },
    {
      "cell_type": "markdown",
      "metadata": {
        "id": "0YGh5bwCO3Te",
        "colab_type": "text"
      },
      "source": [
        "__Para refletir__:\n",
        "\n",
        "* Esse resultado faz sentido?"
      ]
    },
    {
      "cell_type": "markdown",
      "metadata": {
        "id": "w_Hv0N--O3Ti",
        "colab_type": "text"
      },
      "source": [
        "## Questão 3\n",
        "\n",
        "Considerando agora uma amostra de tamanho 3000 da coluna `weight` obtida com a função `get_sample()`. Faça o teste de normalidade de D'Agostino-Pearson utilizando a função `scipy.stats.normaltest()`. Podemos afirmar que os pesos vêm de uma distribuição normal ao nível de significância de 5%? Responda com um boolean (`True` ou `False`)."
      ]
    },
    {
      "cell_type": "code",
      "metadata": {
        "id": "TXdWbYTJO3Tm",
        "colab_type": "code",
        "colab": {}
      },
      "source": [
        "def q3():\n",
        "    # Retorne aqui o resultado da questão 3.\n",
        "    return False"
      ],
      "execution_count": 25,
      "outputs": []
    },
    {
      "cell_type": "markdown",
      "metadata": {
        "id": "3cqnDH_OO3T1",
        "colab_type": "text"
      },
      "source": [
        "__Para refletir__:\n",
        "\n",
        "* Plote o histograma dessa variável (com, por exemplo, `bins=25`). A forma do gráfico e o resultado do teste são condizentes? Por que?\n",
        "* Um _box plot_ também poderia ajudar a entender a resposta."
      ]
    },
    {
      "cell_type": "markdown",
      "metadata": {
        "id": "3JseawMTO3T8",
        "colab_type": "text"
      },
      "source": [
        "## Questão 4\n",
        "\n",
        "Realize uma transformação logarítmica em na amostra de `weight` da questão 3 e repita o mesmo procedimento. Podemos afirmar a normalidade da variável transformada ao nível de significância de 5%? Responda com um boolean (`True` ou `False`)."
      ]
    },
    {
      "cell_type": "code",
      "metadata": {
        "id": "zD36GTSiO3T-",
        "colab_type": "code",
        "colab": {}
      },
      "source": [
        "def q4():\n",
        "    # Retorne aqui o resultado da questão 4.\n",
        "    return False"
      ],
      "execution_count": 26,
      "outputs": []
    },
    {
      "cell_type": "markdown",
      "metadata": {
        "id": "YTTbQpBGO3UM",
        "colab_type": "text"
      },
      "source": [
        "__Para refletir__:\n",
        "\n",
        "* Plote o histograma dessa variável (com, por exemplo, `bins=25`). A forma do gráfico e o resultado do teste são condizentes? Por que?\n",
        "* Você esperava um resultado diferente agora?"
      ]
    },
    {
      "cell_type": "markdown",
      "metadata": {
        "id": "Wi3i5VISO3UO",
        "colab_type": "text"
      },
      "source": [
        "> __Para as questão 5 6 e 7 a seguir considere todos testes efetuados ao nível de significância de 5%__."
      ]
    },
    {
      "cell_type": "markdown",
      "metadata": {
        "id": "1cO189beO3UT",
        "colab_type": "text"
      },
      "source": [
        "## Questão 5\n",
        "\n",
        "Obtenha todos atletas brasileiros, norte-americanos e canadenses em `DataFrame`s chamados `bra`, `usa` e `can`,respectivamente. Realize um teste de hipóteses para comparação das médias das alturas (`height`) para amostras independentes e variâncias diferentes com a função `scipy.stats.ttest_ind()` entre `bra` e `usa`. Podemos afirmar que as médias são estatisticamente iguais? Responda com um boolean (`True` ou `False`)."
      ]
    },
    {
      "cell_type": "code",
      "metadata": {
        "id": "f6ApGhFGO3UV",
        "colab_type": "code",
        "colab": {}
      },
      "source": [
        "def q5():\n",
        "    # Retorne aqui o resultado da questão 5.\n",
        "    return False"
      ],
      "execution_count": 27,
      "outputs": []
    },
    {
      "cell_type": "markdown",
      "metadata": {
        "id": "h7G4pa-rO3Uo",
        "colab_type": "text"
      },
      "source": [
        "## Questão 6\n",
        "\n",
        "Repita o procedimento da questão 5, mas agora entre as alturas de `bra` e `can`. Podemos afimar agora que as médias são estatisticamente iguais? Reponda com um boolean (`True` ou `False`)."
      ]
    },
    {
      "cell_type": "code",
      "metadata": {
        "id": "Utx9vos3O3Up",
        "colab_type": "code",
        "colab": {}
      },
      "source": [
        "def q6():\n",
        "    # Retorne aqui o resultado da questão 6.\n",
        "    return True"
      ],
      "execution_count": 28,
      "outputs": []
    },
    {
      "cell_type": "markdown",
      "metadata": {
        "id": "lkw0OcSnO3U3",
        "colab_type": "text"
      },
      "source": [
        "## Questão 7\n",
        "\n",
        "Repita o procedimento da questão 6, mas agora entre as alturas de `usa` e `can`. Qual o valor do p-valor retornado? Responda como um único escalar arredondado para oito casas decimais."
      ]
    },
    {
      "cell_type": "code",
      "metadata": {
        "id": "IEnBhPgrO3U5",
        "colab_type": "code",
        "colab": {}
      },
      "source": [
        "def q7():\n",
        "    # Retorne aqui o resultado da questão 7.\n",
        "    return pvalue_quest"
      ],
      "execution_count": 29,
      "outputs": []
    },
    {
      "cell_type": "markdown",
      "metadata": {
        "id": "1ZjhRsftO3VG",
        "colab_type": "text"
      },
      "source": [
        "__Para refletir__:\n",
        "\n",
        "* O resultado faz sentido?\n",
        "* Você consegue interpretar esse p-valor?\n",
        "* Você consegue chegar a esse valor de p-valor a partir da variável de estatística?"
      ]
    }
  ]
}