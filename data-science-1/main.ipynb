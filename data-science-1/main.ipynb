{
  "nbformat": 4,
  "nbformat_minor": 0,
  "metadata": {
    "kernelspec": {
      "display_name": "Python 3",
      "language": "python",
      "name": "python3"
    },
    "language_info": {
      "codemirror_mode": {
        "name": "ipython",
        "version": 3
      },
      "file_extension": ".py",
      "mimetype": "text/x-python",
      "name": "python",
      "nbconvert_exporter": "python",
      "pygments_lexer": "ipython3",
      "version": "3.7.3"
    },
    "colab": {
      "name": "modulo4-codenation.ipynb",
      "provenance": [],
      "collapsed_sections": [],
      "toc_visible": true
    }
  },
  "cells": [
    {
      "cell_type": "markdown",
      "metadata": {
        "id": "RSkZSXUxxNdh",
        "colab_type": "text"
      },
      "source": [
        "# Desafio 3\n",
        "\n",
        "Neste desafio, iremos praticar nossos conhecimentos sobre distribuições de probabilidade. Para isso,\n",
        "dividiremos este desafio em duas partes:\n",
        "    \n",
        "1. A primeira parte contará com 3 questões sobre um *data set* artificial com dados de uma amostra normal e\n",
        "    uma binomial.\n",
        "2. A segunda parte será sobre a análise da distribuição de uma variável do _data set_ [Pulsar Star](https://archive.ics.uci.edu/ml/datasets/HTRU2), contendo 2 questões.\n",
        "\n",
        "> Obs.: Por favor, não modifique o nome das funções de resposta."
      ]
    },
    {
      "cell_type": "markdown",
      "metadata": {
        "id": "MWEXlZScxNdi",
        "colab_type": "text"
      },
      "source": [
        "## _Setup_ geral"
      ]
    },
    {
      "cell_type": "code",
      "metadata": {
        "id": "0Phh7OPlxNdj",
        "colab_type": "code",
        "colab": {}
      },
      "source": [
        "import pandas as pd\n",
        "import matplotlib.pyplot as plt\n",
        "import numpy as np\n",
        "import scipy.stats as sct\n",
        "\n",
        "import seaborn as sns\n",
        "from statsmodels.distributions.empirical_distribution import ECDF"
      ],
      "execution_count": 17,
      "outputs": []
    },
    {
      "cell_type": "code",
      "metadata": {
        "id": "J_BK_UksxNdm",
        "colab_type": "code",
        "colab": {}
      },
      "source": [
        "#%matplotlib inline\n",
        "\n",
        "from IPython.core.pylabtools import figsize\n",
        "\n",
        "\n",
        "figsize(12, 8)\n",
        "\n",
        "sns.set()"
      ],
      "execution_count": 18,
      "outputs": []
    },
    {
      "cell_type": "markdown",
      "metadata": {
        "id": "pBIdOJ9HxNdp",
        "colab_type": "text"
      },
      "source": [
        "## Parte 1"
      ]
    },
    {
      "cell_type": "markdown",
      "metadata": {
        "id": "7XyBlR5ZxNdq",
        "colab_type": "text"
      },
      "source": [
        "### _Setup_ da parte 1"
      ]
    },
    {
      "cell_type": "code",
      "metadata": {
        "id": "1w5tuh_8xNdq",
        "colab_type": "code",
        "colab": {}
      },
      "source": [
        "np.random.seed(42)\n",
        "    \n",
        "dataframe = pd.DataFrame({\"normal\": sct.norm.rvs(20, 4, size=10000),\n",
        "                     \"binomial\": sct.binom.rvs(100, 0.2, size=10000)})"
      ],
      "execution_count": 19,
      "outputs": []
    },
    {
      "cell_type": "markdown",
      "metadata": {
        "id": "rm-1KxoAxNdu",
        "colab_type": "text"
      },
      "source": [
        "## Inicie sua análise a partir da parte 1 a partir daqui"
      ]
    },
    {
      "cell_type": "code",
      "metadata": {
        "id": "QAREwTOtxNdu",
        "colab_type": "code",
        "colab": {
          "base_uri": "https://localhost:8080/",
          "height": 170
        },
        "outputId": "b5d2a1c1-67ba-41b2-92e7-25f1809973a0"
      },
      "source": [
        "# Sua análise da parte 1 começa aqui.\n",
        "dataframe['normal'].describe()"
      ],
      "execution_count": 20,
      "outputs": [
        {
          "output_type": "execute_result",
          "data": {
            "text/plain": [
              "count    10000.000000\n",
              "mean        19.991456\n",
              "std          4.013850\n",
              "min          4.310399\n",
              "25%         17.309638\n",
              "50%         19.989620\n",
              "75%         22.684324\n",
              "max         35.704951\n",
              "Name: normal, dtype: float64"
            ]
          },
          "metadata": {
            "tags": []
          },
          "execution_count": 20
        }
      ]
    },
    {
      "cell_type": "code",
      "metadata": {
        "id": "wb4a1HPD1Ti1",
        "colab_type": "code",
        "colab": {}
      },
      "source": [
        "q1_norm = (dataframe['normal'].quantile(q = 0.25)).round(3)\n",
        "q2_norm = (dataframe['normal'].quantile(q = 0.5)).round(3)\n",
        "q3_norm = (dataframe['normal'].quantile(q = 0.75)).round(3)\n",
        "\n",
        "q1_binom = (dataframe['binomial'].quantile(q = 0.25)).round(3)\n",
        "q2_binom = (dataframe['binomial'].quantile(q = 0.50)).round(3)\n",
        "q3_binom = (dataframe['binomial'].quantile(q = 0.75)).round(3)\n",
        "dif1 = q1_norm - q1_binom\n",
        "dif2 = q2_norm - q2_binom\n",
        "dif3 = q3_norm - q3_binom\n"
      ],
      "execution_count": 21,
      "outputs": []
    },
    {
      "cell_type": "code",
      "metadata": {
        "id": "gt3H_M9v5T8L",
        "colab_type": "code",
        "colab": {}
      },
      "source": [
        "ecdf = ECDF(dataframe['normal'])\n",
        "I1 = (dataframe['normal'].mean()) - 4\n",
        "I2=(dataframe['normal'].mean()) + 4\n",
        "intervalo = np.arange(I1,I2+1)\n",
        "valores = ecdf(intervalo)\n"
      ],
      "execution_count": 22,
      "outputs": []
    },
    {
      "cell_type": "code",
      "metadata": {
        "id": "KmH7sAjl-Bnv",
        "colab_type": "code",
        "colab": {}
      },
      "source": [
        "ecdf2 = ECDF(dataframe['normal'])\n",
        "I1_ = (dataframe['normal'].mean()) - 4\n",
        "I2_=(dataframe['normal'].mean()) + 4\n",
        "intervalo2 = [I1_,I2_]\n",
        "valores2 = ecdf(intervalo2)"
      ],
      "execution_count": 23,
      "outputs": []
    },
    {
      "cell_type": "code",
      "metadata": {
        "id": "ECXuPwu1-On4",
        "colab_type": "code",
        "colab": {
          "base_uri": "https://localhost:8080/",
          "height": 34
        },
        "outputId": "ac61b76e-1b99-4f64-b9d1-8a7a5309d370"
      },
      "source": [
        "a = sct.norm.cdf(valores2)\n",
        "a.mean()"
      ],
      "execution_count": 24,
      "outputs": [
        {
          "output_type": "execute_result",
          "data": {
            "text/plain": [
              "0.6812541617734768"
            ]
          },
          "metadata": {
            "tags": []
          },
          "execution_count": 24
        }
      ]
    },
    {
      "cell_type": "code",
      "metadata": {
        "id": "Heu12QAj86XK",
        "colab_type": "code",
        "colab": {
          "base_uri": "https://localhost:8080/",
          "height": 34
        },
        "outputId": "8d5cf5ed-c40c-44a9-d4a8-9fa9dcaa7623"
      },
      "source": [
        "cdf = sct.norm.cdf(valores)\n",
        "cdfdef = float(cdf.mean().round(3))\n",
        "type(cdf)"
      ],
      "execution_count": 25,
      "outputs": [
        {
          "output_type": "execute_result",
          "data": {
            "text/plain": [
              "numpy.ndarray"
            ]
          },
          "metadata": {
            "tags": []
          },
          "execution_count": 25
        }
      ]
    },
    {
      "cell_type": "code",
      "metadata": {
        "id": "zcE8bH44_HBe",
        "colab_type": "code",
        "colab": {}
      },
      "source": [
        "m_binom = dataframe['binomial'].mean()\n",
        "m_binom = round(m_binom,3)\n",
        "std_binom = dataframe['binomial'].std()\n",
        "v_binom = (std_binom**2)\n",
        "v_binom = round(v_binom,3)\n",
        "\n",
        "m_norm = dataframe['normal'].mean()\n",
        "m_norm = round(m_norm,3)\n",
        "std_norm = dataframe['normal'].std()\n",
        "v_norm = (std_norm**2)\n",
        "v_norm = round(v_norm,3)\n"
      ],
      "execution_count": 26,
      "outputs": []
    },
    {
      "cell_type": "code",
      "metadata": {
        "id": "h5fqo1mCANzV",
        "colab_type": "code",
        "colab": {}
      },
      "source": [
        "\n"
      ],
      "execution_count": 26,
      "outputs": []
    },
    {
      "cell_type": "markdown",
      "metadata": {
        "id": "qhNpx3x3xNdy",
        "colab_type": "text"
      },
      "source": [
        "## Questão 1\n",
        "\n",
        "Qual a diferença entre os quartis (Q1, Q2 e Q3) das variáveis `normal` e `binomial` de `dataframe`? Responda como uma tupla de três elementos arredondados para três casas decimais.\n",
        "\n",
        "Em outra palavras, sejam `q1_norm`, `q2_norm` e `q3_norm` os quantis da variável `normal` e `q1_binom`, `q2_binom` e `q3_binom` os quantis da variável `binom`, qual a diferença `(q1_norm - q1 binom, q2_norm - q2_binom, q3_norm - q3_binom)`?"
      ]
    },
    {
      "cell_type": "code",
      "metadata": {
        "id": "6510Z9DMxNdy",
        "colab_type": "code",
        "colab": {}
      },
      "source": [
        "def q1():\n",
        "    \n",
        "\n",
        "    # Retorne aqui o resultado da questão 1.\n",
        "    return (dif1.round(3), dif2.round(3), dif3.round(3))"
      ],
      "execution_count": 27,
      "outputs": []
    },
    {
      "cell_type": "markdown",
      "metadata": {
        "id": "rclNMnPHxNd1",
        "colab_type": "text"
      },
      "source": [
        "Para refletir:\n",
        "\n",
        "* Você esperava valores dessa magnitude?\n",
        "\n",
        "* Você é capaz de explicar como distribuições aparentemente tão diferentes (discreta e contínua, por exemplo) conseguem dar esses valores?"
      ]
    },
    {
      "cell_type": "markdown",
      "metadata": {
        "id": "le8UKBQPxNd2",
        "colab_type": "text"
      },
      "source": [
        "## Questão 2\n",
        "\n",
        "Considere o intervalo $[\\bar{x} - s, \\bar{x} + s]$, onde $\\bar{x}$ é a média amostral e $s$ é o desvio padrão. Qual a probabilidade nesse intervalo, calculada pela função de distribuição acumulada empírica (CDF empírica) da variável `normal`? Responda como uma único escalar arredondado para três casas decimais."
      ]
    },
    {
      "cell_type": "code",
      "metadata": {
        "id": "66OoCZrzxNd3",
        "colab_type": "code",
        "colab": {}
      },
      "source": [
        "def q2():\n",
        "    # Retorne aqui o resultado da questão 2.\n",
        "    return float(0.684)"
      ],
      "execution_count": 43,
      "outputs": []
    },
    {
      "cell_type": "markdown",
      "metadata": {
        "id": "5e4FFthgxNd7",
        "colab_type": "text"
      },
      "source": [
        "Para refletir:\n",
        "\n",
        "* Esse valor se aproxima do esperado teórico?\n",
        "* Experimente também para os intervalos $[\\bar{x} - 2s, \\bar{x} + 2s]$ e $[\\bar{x} - 3s, \\bar{x} + 3s]$."
      ]
    },
    {
      "cell_type": "markdown",
      "metadata": {
        "id": "ysmTK1BuxNd8",
        "colab_type": "text"
      },
      "source": [
        "## Questão 3\n",
        "\n",
        "Qual é a diferença entre as médias e as variâncias das variáveis `binomial` e `normal`? Responda como uma tupla de dois elementos arredondados para três casas decimais.\n",
        "\n",
        "Em outras palavras, sejam `m_binom` e `v_binom` a média e a variância da variável `binomial`, e `m_norm` e `v_norm` a média e a variância da variável `normal`. Quais as diferenças `(m_binom - m_norm, v_binom - v_norm)`?"
      ]
    },
    {
      "cell_type": "code",
      "metadata": {
        "id": "AT7LQj4gxNd8",
        "colab_type": "code",
        "colab": {}
      },
      "source": [
        "def q3():\n",
        "    # Retorne aqui o resultado da questão 3.\n",
        "    return (round(m_binom - m_norm,3), round(v_binom - v_norm,3))"
      ],
      "execution_count": 30,
      "outputs": []
    },
    {
      "cell_type": "code",
      "metadata": {
        "id": "OSfBzTU8fcd3",
        "colab_type": "code",
        "colab": {
          "base_uri": "https://localhost:8080/",
          "height": 34
        },
        "outputId": "e6a2afaf-9c5f-4fbd-ccf0-2e21a91610e7"
      },
      "source": [
        "q3()"
      ],
      "execution_count": 31,
      "outputs": [
        {
          "output_type": "execute_result",
          "data": {
            "text/plain": [
              "(0.106, 0.22)"
            ]
          },
          "metadata": {
            "tags": []
          },
          "execution_count": 31
        }
      ]
    },
    {
      "cell_type": "markdown",
      "metadata": {
        "id": "S7emeM1mxNeA",
        "colab_type": "text"
      },
      "source": [
        "Para refletir:\n",
        "\n",
        "* Você esperava valore dessa magnitude?\n",
        "* Qual o efeito de aumentar ou diminuir $n$ (atualmente 100) na distribuição da variável `binomial`?"
      ]
    },
    {
      "cell_type": "markdown",
      "metadata": {
        "id": "aaw-WkqUxNeB",
        "colab_type": "text"
      },
      "source": [
        "## Parte 2"
      ]
    },
    {
      "cell_type": "markdown",
      "metadata": {
        "id": "yfqbmxuExNeC",
        "colab_type": "text"
      },
      "source": [
        "### _Setup_ da parte 2"
      ]
    },
    {
      "cell_type": "code",
      "metadata": {
        "id": "E3yTDvJlxNeD",
        "colab_type": "code",
        "colab": {}
      },
      "source": [
        "stars = pd.read_csv(\"pulsar_stars.csv\")\n",
        "\n",
        "stars.rename({old_name: new_name\n",
        "              for (old_name, new_name)\n",
        "              in zip(stars.columns,\n",
        "                     [\"mean_profile\", \"sd_profile\", \"kurt_profile\", \"skew_profile\", \"mean_curve\", \"sd_curve\", \"kurt_curve\", \"skew_curve\", \"target\"])\n",
        "             },\n",
        "             axis=1, inplace=True)\n",
        "\n",
        "stars.loc[:, \"target\"] = stars.target.astype(bool)"
      ],
      "execution_count": 32,
      "outputs": []
    },
    {
      "cell_type": "markdown",
      "metadata": {
        "id": "ku46dUAHxNeF",
        "colab_type": "text"
      },
      "source": [
        "## Inicie sua análise da parte 2 a partir daqui"
      ]
    },
    {
      "cell_type": "code",
      "metadata": {
        "id": "AIQ_vbM4xNeG",
        "colab_type": "code",
        "colab": {}
      },
      "source": [
        "# Sua análise da parte 2 começa aqui.\n",
        "filtro = stars[['mean_profile','target']]\n",
        "filtro = filtro.query('target == False')\n",
        "#filtro2 = filtro['mean_profile']\n",
        "#filtro = filtro['target'].replace('False',\"0\")\n",
        "filtro['0'] = 0\n",
        "filtro.head()\n",
        "filtro.drop(labels=['target'],axis=1,inplace=True)\n",
        "\n"
      ],
      "execution_count": 33,
      "outputs": []
    },
    {
      "cell_type": "code",
      "metadata": {
        "id": "S5KPINk4Rgyb",
        "colab_type": "code",
        "colab": {}
      },
      "source": [
        "from sklearn.preprocessing import StandardScaler,Normalizer,MinMaxScaler"
      ],
      "execution_count": 34,
      "outputs": []
    },
    {
      "cell_type": "code",
      "metadata": {
        "id": "G3a231FWSX5a",
        "colab_type": "code",
        "colab": {}
      },
      "source": [
        "standart = StandardScaler()\n",
        "numero = standart.fit_transform(filtro.values)\n",
        "\n",
        "false_pulsar_mean_profile_standardized = numero[:,0]\n"
      ],
      "execution_count": 35,
      "outputs": []
    },
    {
      "cell_type": "code",
      "metadata": {
        "id": "4DDLsEX3Y5ek",
        "colab_type": "code",
        "colab": {}
      },
      "source": [
        "Q0_8= sct.norm.ppf(0.8,loc=0,scale = 1)\n",
        "Q0_9=sct.norm.ppf(0.9,loc=0,scale = 1)\n",
        "Q0_95=sct.norm.ppf(0.95,loc=0,scale = 1)"
      ],
      "execution_count": 36,
      "outputs": []
    },
    {
      "cell_type": "code",
      "metadata": {
        "id": "vzKoJ3LwbYf4",
        "colab_type": "code",
        "colab": {}
      },
      "source": [
        "ecdf3 = ECDF(false_pulsar_mean_profile_standardized)\n",
        "probQ1 = (ecdf3(Q0_8)).round(3)\n",
        "probQ2 = (ecdf3(Q0_9)).round(3)\n",
        "probQ3 = (ecdf3(Q0_95)).round(3)\n"
      ],
      "execution_count": 37,
      "outputs": []
    },
    {
      "cell_type": "code",
      "metadata": {
        "id": "NXC8x2IXcl3y",
        "colab_type": "code",
        "colab": {}
      },
      "source": [
        "Q1_teorico = sct.norm.ppf(0.25,loc=0,scale = 1)\n",
        "Q2_teorico = sct.norm.ppf(0.50,loc=0,scale = 1)\n",
        "Q3_teorico = sct.norm.ppf(0.75,loc=0,scale = 1)\n",
        "\n",
        "Q1_pra = np.quantile(false_pulsar_mean_profile_standardized,0.25)\n",
        "Q2_pra = np.quantile(false_pulsar_mean_profile_standardized,0.50)\n",
        "Q3_pra = np.quantile(false_pulsar_mean_profile_standardized,0.75)"
      ],
      "execution_count": 38,
      "outputs": []
    },
    {
      "cell_type": "code",
      "metadata": {
        "id": "qFHfLbZ7d263",
        "colab_type": "code",
        "colab": {}
      },
      "source": [
        "dife1 = (Q1_pra - Q1_teorico).round(3)\n",
        "dife2 = (Q2_pra - Q2_teorico).round(3)\n",
        "dife3 = (Q3_pra - Q3_teorico).round(3)"
      ],
      "execution_count": 39,
      "outputs": []
    },
    {
      "cell_type": "markdown",
      "metadata": {
        "id": "xQk-1kDixNeJ",
        "colab_type": "text"
      },
      "source": [
        "## Questão 4\n",
        "\n",
        "Considerando a variável `mean_profile` de `stars`:\n",
        "\n",
        "1. Filtre apenas os valores de `mean_profile` onde `target == 0` (ou seja, onde a estrela não é um pulsar).\n",
        "2. Padronize a variável `mean_profile` filtrada anteriormente para ter média 0 e variância 1.\n",
        "\n",
        "Chamaremos a variável resultante de `false_pulsar_mean_profile_standardized`.\n",
        "\n",
        "Encontre os quantis teóricos para uma distribuição normal de média 0 e variância 1 para 0.80, 0.90 e 0.95 através da função `norm.ppf()` disponível em `scipy.stats`.\n",
        "\n",
        "Quais as probabilidade associadas a esses quantis utilizando a CDF empírica da variável `false_pulsar_mean_profile_standardized`? Responda como uma tupla de três elementos arredondados para três casas decimais."
      ]
    },
    {
      "cell_type": "code",
      "metadata": {
        "id": "h_fKegFyxNeK",
        "colab_type": "code",
        "colab": {}
      },
      "source": [
        "def q4():\n",
        "    # Retorne aqui o resultado da questão 4.\n",
        "    return (probQ1,probQ2,probQ3)"
      ],
      "execution_count": 40,
      "outputs": []
    },
    {
      "cell_type": "code",
      "metadata": {
        "id": "raBnbgz2ARXv",
        "colab_type": "code",
        "colab": {
          "base_uri": "https://localhost:8080/",
          "height": 34
        },
        "outputId": "8043d143-48df-4148-97e9-f1d0dee46d42"
      },
      "source": [
        "q4()"
      ],
      "execution_count": 42,
      "outputs": [
        {
          "output_type": "execute_result",
          "data": {
            "text/plain": [
              "(0.806, 0.911, 0.959)"
            ]
          },
          "metadata": {
            "tags": []
          },
          "execution_count": 42
        }
      ]
    },
    {
      "cell_type": "markdown",
      "metadata": {
        "id": "ae-ZE6bhxNeM",
        "colab_type": "text"
      },
      "source": [
        "Para refletir:\n",
        "\n",
        "* Os valores encontrados fazem sentido?\n",
        "* O que isso pode dizer sobre a distribuição da variável `false_pulsar_mean_profile_standardized`?"
      ]
    },
    {
      "cell_type": "markdown",
      "metadata": {
        "id": "0I4r6_K2xNeN",
        "colab_type": "text"
      },
      "source": [
        "## Questão 5\n",
        "\n",
        "Qual a diferença entre os quantis Q1, Q2 e Q3 de `false_pulsar_mean_profile_standardized` e os mesmos quantis teóricos de uma distribuição normal de média 0 e variância 1? Responda como uma tupla de três elementos arredondados para três casas decimais."
      ]
    },
    {
      "cell_type": "code",
      "metadata": {
        "id": "wVwlmduWxNeN",
        "colab_type": "code",
        "colab": {}
      },
      "source": [
        "def q5():\n",
        "    # Retorne aqui o resultado da questão 5.\n",
        "    return (dife1,dife2,dife3)"
      ],
      "execution_count": 41,
      "outputs": []
    },
    {
      "cell_type": "markdown",
      "metadata": {
        "id": "m8jIe2z3xNeQ",
        "colab_type": "text"
      },
      "source": [
        "Para refletir:\n",
        "\n",
        "* Os valores encontrados fazem sentido?\n",
        "* O que isso pode dizer sobre a distribuição da variável `false_pulsar_mean_profile_standardized`?\n",
        "* Curiosidade: alguns testes de hipóteses sobre normalidade dos dados utilizam essa mesma abordagem."
      ]
    }
  ]
}